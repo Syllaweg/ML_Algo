{
 "cells": [
  {
   "cell_type": "code",
   "execution_count": 1,
   "metadata": {
    "ExecuteTime": {
     "end_time": "2020-06-23T09:45:50.208291Z",
     "start_time": "2020-06-23T09:45:45.136772Z"
    }
   },
   "outputs": [],
   "source": [
    "# Tensorflow : le package de Deep Learning que nous allons utiliser\n",
    "import tensorflow as tf\n",
    "\n",
    "# Gestion des tableaux de données\n",
    "import numpy as np\n",
    "\n",
    "# Visualisation\n",
    "from matplotlib import pyplot as plt\n",
    "%matplotlib inline"
   ]
  },
  {
   "cell_type": "code",
   "execution_count": 2,
   "metadata": {
    "ExecuteTime": {
     "end_time": "2020-06-23T09:45:50.266902Z",
     "start_time": "2020-06-23T09:45:50.257419Z"
    }
   },
   "outputs": [],
   "source": [
    "# Création des données avec lesquelles nous allons entraîner le modèle\n",
    "X = np.random.uniform(0, 1, size=100)\n",
    "y = 0.2*X + 0.3 + np.random.randn(100)/50"
   ]
  },
  {
   "cell_type": "code",
   "execution_count": 3,
   "metadata": {
    "ExecuteTime": {
     "end_time": "2020-06-23T09:45:50.702119Z",
     "start_time": "2020-06-23T09:45:50.375135Z"
    }
   },
   "outputs": [
    {
     "data": {
      "text/plain": [
       "<matplotlib.collections.PathCollection at 0x13feeda90>"
      ]
     },
     "execution_count": 3,
     "metadata": {},
     "output_type": "execute_result"
    },
    {
     "data": {
      "image/png": "[encoded data removed]",
      "text/plain": [
       "<Figure size 432x288 with 1 Axes>"
      ]
     },
     "metadata": {
      "needs_background": "light"
     },
     "output_type": "display_data"
    }
   ],
   "source": [
    "# Visualisation des données\n",
    "plt.scatter(X, y)"
   ]
  },
  {
   "cell_type": "code",
   "execution_count": 4,
   "metadata": {},
   "outputs": [
    {
     "name": "stdout",
     "output_type": "stream",
     "text": [
      "Epoch 1/10\n",
      "4/4 [==============================] - 0s 3ms/step - loss: 0.0292\n",
      "Epoch 2/10\n",
      "4/4 [==============================] - 0s 2ms/step - loss: 0.0169\n",
      "Epoch 3/10\n",
      "4/4 [==============================] - 0s 2ms/step - loss: 0.0080\n",
      "Epoch 4/10\n",
      "4/4 [==============================] - 0s 3ms/step - loss: 0.0037\n",
      "Epoch 5/10\n",
      "4/4 [==============================] - 0s 3ms/step - loss: 0.0043\n",
      "Epoch 6/10\n",
      "4/4 [==============================] - 0s 2ms/step - loss: 8.5822e-04\n",
      "Epoch 7/10\n",
      "4/4 [==============================] - 0s 3ms/step - loss: 0.0023\n",
      "Epoch 8/10\n",
      "4/4 [==============================] - 0s 3ms/step - loss: 5.9343e-04\n",
      "Epoch 9/10\n",
      "4/4 [==============================] - 0s 3ms/step - loss: 0.0010\n",
      "Epoch 10/10\n",
      "4/4 [==============================] - 0s 3ms/step - loss: 7.6675e-04\n"
     ]
    },
    {
     "data": {
      "text/plain": [
       "<tensorflow.python.keras.callbacks.History object at 0x0000027A14C58610>"
      ]
     },
     "execution_count": 4,
     "metadata": {},
     "output_type": "execute_result"
    }
   ],
   "source": [
    "# Construction du modèle\n",
    "model = tf.keras.models.Sequential([\n",
    "  tf.keras.layers.Dense(1, activation='linear'),\n",
    "])\n",
    "\n",
    "# \"Compilation\" du modèle: On indique quelle fonction de perte et quel optimisateur utiliser.\n",
    "model.compile(\n",
    "    # Adam est un optimisateur très utilisé en pratique, il marche bien dans la plupart des cas.\n",
    "    optimizer=tf.keras.optimizers.Adam(1e-1),\n",
    "    loss=\"mse\", # \"Mean squared error\", perte quadratique\n",
    ")\n",
    "\n",
    "# Entrainement\n",
    "model.fit(X, y, epochs=10)"
   ]
  },
  {
   "cell_type": "markdown",
   "metadata": {},
   "source": [
    "Regardons maintenant si le modèle a bien appris."
   ]
  },
  {
   "cell_type": "code",
   "execution_count": 73,
   "metadata": {},
   "outputs": [
    {
     "data": {
      "text/plain": [
       "<matplotlib.legend.Legend object at 0x7fc0dcfd5910>"
      ]
     },
     "execution_count": 73,
     "metadata": {},
     "output_type": "execute_result"
    },
    {
     "data": {
      "image/png": "[encoded data removed]",
      "text/plain": [
       "<Figure size 432x288 with 1 Axes>"
      ]
     },
     "metadata": {
      "needs_background": "light"
     },
     "output_type": "display_data"
    }
   ],
   "source": [
    "y_pred = model.predict(X)\n",
    "\n",
    "plt.scatter(X, y, label=\"Données\")\n",
    "plt.scatter(X, y_pred, label=\"Prédiction\")\n",
    "plt.legend()"
   ]
  },
  {
   "cell_type": "markdown",
   "metadata": {},
   "source": [
    "Vérifions à présent que les coefficients appris par le modèle correspondent bien aux coefficients que nous avions utilisés pour générer les données : 0.2 et 0.3."
   ]
  },
  {
   "cell_type": "code",
   "execution_count": 74,
   "metadata": {},
   "outputs": [
    {
     "data": {
      "text/plain": [
       "[\n",
       "  <tf.Variable 'sequential_20/dense_20/kernel:0' shape=(1, 1) dtype=float32, numpy=array([[0.19714294]], dtype=float32)>,\n",
       "  <tf.Variable 'sequential_20/dense_20/bias:0' shape=(1,) dtype=float32, numpy=array([0.3033344], dtype=float32)>,\n",
       "]"
      ]
     },
     "execution_count": 74,
     "metadata": {},
     "output_type": "execute_result"
    }
   ],
   "source": [
    "model.layers[0].variables"
   ]
  },
  {
   "cell_type": "code",
   "execution_count": null,
   "metadata": {},
   "outputs": [],
   "source": []
  }
 ],
 "metadata": {
  "kernelspec": {
   "display_name": "envTf2Keras",
   "language": "python",
   "name": "envtf2keras"
  },
  "language_info": {
   "codemirror_mode": {
    "name": "ipython",
    "version": 3
   },
   "file_extension": ".py",
   "mimetype": "text/x-python",
   "name": "python",
   "nbconvert_exporter": "python",
   "pygments_lexer": "ipython3",
   "version": "3.8.3rc1"
  },
  "toc": {
   "base_numbering": 1,
   "nav_menu": {},
   "number_sections": true,
   "sideBar": true,
   "skip_h1_title": false,
   "title_cell": "Table of Contents",
   "title_sidebar": "Contents",
   "toc_cell": false,
   "toc_position": {},
   "toc_section_display": true,
   "toc_window_display": false
  },
  "varInspector": {
   "cols": {
    "lenName": 16,
    "lenType": 16,
    "lenVar": 40
   },
   "kernels_config": {
    "python": {
     "delete_cmd_postfix": "",
     "delete_cmd_prefix": "del ",
     "library": "var_list.py",
     "varRefreshCmd": "print(var_dic_list())"
    },
    "r": {
     "delete_cmd_postfix": ") ",
     "delete_cmd_prefix": "rm(",
     "library": "var_list.r",
     "varRefreshCmd": "cat(var_dic_list()) "
    }
   },
   "types_to_exclude": [
    "module",
    "function",
    "builtin_function_or_method",
    "instance",
    "_Feature"
   ],
   "window_display": false
  }
 },
 "nbformat": 4,
 "nbformat_minor": 4
}
