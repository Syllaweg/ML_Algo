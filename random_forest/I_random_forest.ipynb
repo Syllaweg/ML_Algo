{
 "cells": [
  {
   "cell_type": "markdown",
   "metadata": {},
   "source": [
    "# *Random Forest*\n",
    "***forêt aléatoire***"
   ]
  },
  {
   "cell_type": "markdown",
   "metadata": {},
   "source": [
    "  Les *Arbres de Décisions* sont des modeles de ML supervisé très puissant, mais ils ont tendances à l'overfitting, et plutôt que de faire du 'pruning', de l'élagage pour généraliser notre modèle on peut utiliser d'autres modèles...\n"
   ]
  },
  {
   "cell_type": "markdown",
   "metadata": {},
   "source": [
    " *Random Forests* est un ensemble de technique de ML. Une *Forêt Aléatoire* va contenir plusieurs 'Decision Trees' qui travaille ensemble pour classifer de nouveaux points.  \n",
    "Ainsi, lorsqu'un nouveau point doit être classifé, il est passé dans chaque 'Decision Tree', et c'est tout simplement le plus redondant qui est alors considéré comme le meilleur et conservé.\n",
    "Certains 'Arbres' peuvent 'Overfitter', le faite que la prédiction soit basé sur grand nombre d'Arbres' va réduire ce phénomène."
   ]
  },
  {
   "cell_type": "markdown",
   "metadata": {},
   "source": [
    "## Bagging"
   ]
  },
  {
   "cell_type": "markdown",
   "metadata": {},
   "source": [
    "*Random forests* créés différents 'Arbres', utilisant le 'Bagging'.\n",
    "\n",
    "À chaque fois qu'un Arbre est créé il utilise un sous-ensemble de points différent du training set.  \n",
    "Si par exemple notre Dataset fais 1000 lignes, chaque Arbres va selectionner aléatoirement 100 lignes dans un 'Bag' "
   ]
  },
  {
   "cell_type": "code",
   "execution_count": null,
   "metadata": {},
   "outputs": [],
   "source": []
  },
  {
   "cell_type": "code",
   "execution_count": null,
   "metadata": {},
   "outputs": [],
   "source": []
  },
  {
   "cell_type": "code",
   "execution_count": null,
   "metadata": {},
   "outputs": [],
   "source": []
  },
  {
   "cell_type": "code",
   "execution_count": null,
   "metadata": {},
   "outputs": [],
   "source": []
  },
  {
   "cell_type": "markdown",
   "metadata": {},
   "source": [
    "Right now when we create a decision tree, we look at every one of those features and choose to split the data based on the feature that produces the most information gain. We could change how the tree is created by only allowing a subset of those features to be considered at each split.\n",
    "\n",
    "One question to consider is how to choose the number of features to randomly select. Why did we choose 3 in this example? A good rule of thumb is to randomly select the square root of the total number of features"
   ]
  },
  {
   "cell_type": "code",
   "execution_count": null,
   "metadata": {},
   "outputs": [],
   "source": []
  },
  {
   "cell_type": "markdown",
   "metadata": {},
   "source": [
    "Now that we can make different decision trees, it’s time to plant a whole forest! "
   ]
  },
  {
   "cell_type": "code",
   "execution_count": null,
   "metadata": {},
   "outputs": [],
   "source": []
  },
  {
   "cell_type": "code",
   "execution_count": 3,
   "metadata": {
    "ExecuteTime": {
     "end_time": "2020-04-25T17:26:30.792669Z",
     "start_time": "2020-04-25T17:26:26.772213Z"
    }
   },
   "outputs": [],
   "source": [
    "import numpy as np"
   ]
  },
  {
   "cell_type": "raw",
   "metadata": {},
   "source": [
    "Génération de nb aleatoire  "
   ]
  },
  {
   "cell_type": "code",
   "execution_count": 46,
   "metadata": {
    "ExecuteTime": {
     "end_time": "2020-04-25T17:33:09.790929Z",
     "start_time": "2020-04-25T17:33:09.784252Z"
    }
   },
   "outputs": [
    {
     "data": {
      "text/plain": [
       "array([46, 75, 14])"
      ]
     },
     "execution_count": 46,
     "metadata": {},
     "output_type": "execute_result"
    }
   ],
   "source": [
    "#le 1er nb sera de 0 à ce nb la plage dans la quel le nb sera choisie\n",
    "#le 2ème ne nb de nb générer et renvoyer dans une liste\n",
    "# replace ??\n",
    "np.random.choice(100, 3, replace=False)"
   ]
  },
  {
   "cell_type": "code",
   "execution_count": 45,
   "metadata": {
    "ExecuteTime": {
     "end_time": "2020-04-25T17:33:08.700027Z",
     "start_time": "2020-04-25T17:33:08.696434Z"
    }
   },
   "outputs": [],
   "source": [
    "import random"
   ]
  },
  {
   "cell_type": "code",
   "execution_count": 44,
   "metadata": {
    "ExecuteTime": {
     "end_time": "2020-04-25T17:33:07.439301Z",
     "start_time": "2020-04-25T17:33:07.432628Z"
    }
   },
   "outputs": [
    {
     "data": {
      "text/plain": [
       "[196, 433, 944, 644, 487, 522, 39, 344, 778, 15]"
      ]
     },
     "execution_count": 44,
     "metadata": {},
     "output_type": "execute_result"
    }
   ],
   "source": [
    "#on va générer dans une list: \n",
    "#de 0 à 999 aléatoirement/ 10 nb\n",
    "[random.randint(0, 999) for _ in range(10)]\n"
   ]
  }
 ],
 "metadata": {
  "hide_input": false,
  "kernelspec": {
   "display_name": "Python 3",
   "language": "python",
   "name": "python3"
  },
  "language_info": {
   "codemirror_mode": {
    "name": "ipython",
    "version": 3
   },
   "file_extension": ".py",
   "mimetype": "text/x-python",
   "name": "python",
   "nbconvert_exporter": "python",
   "pygments_lexer": "ipython3",
   "version": "3.7.4"
  },
  "latex_envs": {
   "LaTeX_envs_menu_present": true,
   "autoclose": false,
   "autocomplete": true,
   "bibliofile": "biblio.bib",
   "cite_by": "apalike",
   "current_citInitial": 1,
   "eqLabelWithNumbers": true,
   "eqNumInitial": 1,
   "hotkeys": {
    "equation": "Ctrl-E",
    "itemize": "Ctrl-I"
   },
   "labels_anchors": false,
   "latex_user_defs": false,
   "report_style_numbering": false,
   "user_envs_cfg": false
  },
  "toc": {
   "base_numbering": 1,
   "nav_menu": {},
   "number_sections": true,
   "sideBar": true,
   "skip_h1_title": false,
   "title_cell": "Table of Contents",
   "title_sidebar": "Contents",
   "toc_cell": false,
   "toc_position": {},
   "toc_section_display": true,
   "toc_window_display": false
  }
 },
 "nbformat": 4,
 "nbformat_minor": 2
}
